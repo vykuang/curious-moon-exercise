{
 "cells": [
  {
   "cell_type": "markdown",
   "id": "2a1122bc-623f-4d9d-934b-cf9f42249143",
   "metadata": {},
   "source": [
    "# Flyby\n",
    "\n",
    "Cassini had 23 (or perhaps 22) flybys to Enceladus. Find the precise times of the closest approach for each flyby. Doesn't NASA already know this?\n",
    "\n",
    "search from `events` table where `title ILIKE '%flyby&' OR title ILIKE '&fly by&'` and include targets so we can filter for enceladus\n",
    "\n",
    "Spot check the data vs ground truth, i.e. `import.master_plan`; first enceladus flyby should be in feb 17, 2005\n",
    "\n",
    "Apparently that first flyby was called \"obtain wideband examples of lightning whistlers\", and target was \"Saturn\", not \"Enceladus\"???\n",
    "\n",
    "## Sargeable vs non-sargeable\n",
    "\n",
    "SARG is short for **search argument**. Sargable means that the database is able to perform an *index seek* to match the search predicate. If we're searching by an integer the engine could sort by that integer column, and automatically *seek* to that row without scanning every row.\n",
    "\n",
    "Non-sargable means that the database is not able to use index seek, i.e. it must perform some SQL function, e.g. `WHERE UPPER(name) LIKE 'CASSINI'`. The storage engine must return all rows to SQL engine for intermediate evaluation before searching. This becomes a sequential scan; all rows must be evaluated."
   ]
  },
  {
   "cell_type": "code",
   "execution_count": 2,
   "id": "825f7ab6-f892-4816-9bb0-01c38cdfe737",
   "metadata": {},
   "outputs": [],
   "source": [
    "import os\n",
    "from dotenv import load_dotenv"
   ]
  },
  {
   "cell_type": "code",
   "execution_count": 3,
   "id": "516c8ae5-cdf2-4047-a597-51ebedb205a6",
   "metadata": {},
   "outputs": [],
   "source": [
    "load_dotenv(\"../.env\")\n",
    "user = os.environ.get('POSTGRES_USER')\n",
    "pw = os.environ.get('POSTGRES_PASSWORD')\n",
    "db_name = os.environ.get('POSTGRES_DB')\n",
    "host = 'localhost'\n",
    "port = 5432\n",
    "conn_str = f'postgresql://{user}:{pw}@{host}:{port}/{db_name}'"
   ]
  },
  {
   "cell_type": "code",
   "execution_count": 5,
   "id": "2a4a1ae5-9145-43a3-88c5-d30bd4196bac",
   "metadata": {},
   "outputs": [],
   "source": [
    "%load_ext sql"
   ]
  },
  {
   "cell_type": "code",
   "execution_count": 6,
   "id": "d02530f3-0365-47f6-ab3a-c4c5d428c31f",
   "metadata": {},
   "outputs": [],
   "source": [
    "%sql $conn_str"
   ]
  },
  {
   "cell_type": "markdown",
   "id": "9538553e-e691-40fc-973a-17a5da0d255a",
   "metadata": {},
   "source": [
    "## Materialized views and indexing\n",
    "\n",
    "View is not an actual table; just stored snippets of SQL. Create with:"
   ]
  },
  {
   "cell_type": "code",
   "execution_count": null,
   "id": "85b1798b-ec5e-48c0-8eb1-c84b8c8199a4",
   "metadata": {},
   "outputs": [],
   "source": [
    "%%sql\n",
    "drop view if exists enceladus_events;\n",
    "create view enceladus_events as\n",
    "select\n",
    "    events.time_stamp,\n",
    "    events.time_stamp::date as date,\n",
    "    event_types.description as event,\n",
    "    to_tsvector(concat(\n",
    "        events.description, ' ',\n",
    "        events.title)\n",
    "    ) as search\n",
    "from events\n",
    "inner join event_types\n",
    "on event_types.id = events.event_type_id\n",
    "where target_id=28\n",
    "order by time_stamp;"
   ]
  },
  {
   "cell_type": "markdown",
   "id": "edc46806-c266-47f5-9cdc-7829b80197fc",
   "metadata": {},
   "source": [
    "**Materialized** views are similar, and the also allow indexing which improves search performance:"
   ]
  },
  {
   "cell_type": "code",
   "execution_count": null,
   "id": "41047497-b2e6-42dd-b290-19cc331f48b7",
   "metadata": {},
   "outputs": [],
   "source": [
    "%%sql\n",
    "create index idx_event_search\n",
    "on enceladus_events using GIN(search)"
   ]
  },
  {
   "cell_type": "markdown",
   "id": "729bd5c4-9fdc-46ea-8e21-cf9e3df73bf5",
   "metadata": {},
   "source": [
    "Now when we search using `to_tsquery` it won't need to go through every item\n",
    "\n",
    "Creating a view does not execute it, unlike creating a table; the view SQL only executes when it is queried against.\n",
    "\n",
    "## full-text indexing\n",
    "\n",
    "Prioritize useful terms and deprioritize *noise*. Critical when searching through our `title` or `description` columns in a large database.\n",
    "\n",
    "In postgres, `to_tsvector(events.description)` is a function that indexes the string column. To make use of this indexed string column, \n",
    "\n",
    "1. create view with that `to_tsvector(events.description) as search`\n",
    "2. use new `search` column in a where clause: `where search @@ to_tsquery('thermal')`. That will show all matches for `thermal`; other operators besides `@@` will do different things.\n",
    "\n",
    "Combine `concat()` with `to_tsvector` to search through two different text columns: `to_tsvector(concat(events.description, ' ', events.title))`\n",
    "\n",
    "## First flyby\n",
    "\n",
    "Via historical context (i.e. domain knowledge), we know that feb 17 2005 was definitely first flyby. Time to identify it in our facts table, i.e. `events`\n",
    "\n",
    "Look in events, and put back the text description by joining the dimension tables for manual inspection. This way we find out how the scientists actually labelled their flyby:"
   ]
  },
  {
   "cell_type": "code",
   "execution_count": null,
   "id": "e8179a60-4900-4899-a429-8e56d6addede",
   "metadata": {},
   "outputs": [],
   "source": [
    "%%sql\n",
    "select\n",
    "    targets.description as target,\n",
    "    events.time_stamp,\n",
    "    event_types.description as event\n",
    "from events\n",
    "inner join event_types on event_types.id = events.event_type_id\n",
    "inner join targets on targets.id = events.target_id\n",
    "where events.time_stamp::date = '2005-02-17'\n",
    "order by events.time_stamp;"
   ]
  },
  {
   "cell_type": "markdown",
   "id": "6af287d7-40e3-44ce-b1b3-ddbb044866e5",
   "metadata": {},
   "source": [
    "This looks for all events on that date, with original target and event type descriptions as string.\n",
    "\n",
    "One line reads: `Enceladus closest approach observation` with `Enceladus` as target, so let's put that restriction: `targets.description ILIKE 'enceladus'`. However instead of doing a slow string query, we can find what the target ID integer is via `select * from targets where description = 'Enceladus'` (28 for me; 40 in the book) and perform an index search. Cuts time in half from 94 to 55 ms; non-sargeable vs sargeable.\n",
    "\n",
    "The flyby unexpectedly revealed some signs of an atmosphere. Second flyby threw all their instruments at it. The most active team on the 2005-03-09 flyby was CIRS (composite infared scanner), followed by UVIS (ultraviolet imaging spectrograph subsystem), to take UV images, then VIMS for infrared. This avalanche of readings confirmed that Enceladus indeed posessed an atmosphere\n",
    "\n",
    "## all closest flybys\n",
    "\n",
    "Use `concat` with `to_tsvector` to search for `closest` in description *and* title:"
   ]
  },
  {
   "cell_type": "code",
   "execution_count": null,
   "id": "91547790-86c1-405d-a45c-a5592cd2a850",
   "metadata": {},
   "outputs": [],
   "source": [
    "%%sql\n",
    "drop view if exists enceladus_events;\n",
    "create materialized view enceladus_events as\n",
    "select\n",
    "    events.id,\n",
    "    events.title,\n",
    "    events.description,\n",
    "    events.time_stamp,\n",
    "    events.time_stamp::date as date,\n",
    "    event_types.description as event,\n",
    "    to_tsvector(\n",
    "        concat(events.description, ' ', events.title)\n",
    "    ) as search\n",
    "from events\n",
    "inner join event_types\n",
    "on event_types.id = events.event_type_id\n",
    "where target_id=28\n",
    "order by time_stamp;\n",
    "\n",
    "/-- create index on our search column\n",
    "create index idx_event_search\n",
    "on enceladus_events using GIN(search)\n",
    "\n",
    "\n",
    "/-- search for closest\n",
    "select * from enceladus_events\n",
    "where search @@ to_tsquery('closest')"
   ]
  },
  {
   "cell_type": "markdown",
   "id": "b40d37b4-657d-4c1f-9873-72f1e1be388b",
   "metadata": {},
   "source": [
    "This returns two closest flybys on 2009-11-02. Data entry error? Two actual flybys? It's possible the data may not be as reliable as hoped. Turn to a different dataset? Try INMS."
   ]
  }
 ],
 "metadata": {
  "kernelspec": {
   "display_name": "Python 3 (ipykernel)",
   "language": "python",
   "name": "python3"
  },
  "language_info": {
   "codemirror_mode": {
    "name": "ipython",
    "version": 3
   },
   "file_extension": ".py",
   "mimetype": "text/x-python",
   "name": "python",
   "nbconvert_exporter": "python",
   "pygments_lexer": "ipython3",
   "version": "3.11.4"
  }
 },
 "nbformat": 4,
 "nbformat_minor": 5
}
